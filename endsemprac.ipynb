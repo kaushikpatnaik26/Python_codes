{
 "cells": [
  {
   "cell_type": "code",
   "execution_count": 5,
   "id": "7c8de2ea-febe-4a6b-a3a6-812ef95468b3",
   "metadata": {},
   "outputs": [
    {
     "name": "stdout",
     "output_type": "stream",
     "text": [
      "haa\n"
     ]
    }
   ],
   "source": [
    "str = \"ghaaays\"\n",
    "print(str[1:4])"
   ]
  },
  {
   "cell_type": "code",
   "execution_count": 1,
   "id": "2222e488-900a-43d2-975f-46dfe63aec7d",
   "metadata": {},
   "outputs": [
    {
     "name": "stdout",
     "output_type": "stream",
     "text": [
      "all even numbers from 1-10\n",
      "[0, 2, 4, 6, 8]\n"
     ]
    }
   ],
   "source": [
    "print(\"all even numbers from 1-10\")\n",
    "even_number=[x for x in range (10) if x%2 ==0]\n",
    "print(even_number)"
   ]
  },
  {
   "cell_type": "code",
   "execution_count": 2,
   "id": "bb406c18-8ff1-452b-8521-2dec2bb745aa",
   "metadata": {},
   "outputs": [],
   "source": [
    "#assignment4"
   ]
  },
  {
   "cell_type": "code",
   "execution_count": 2,
   "id": "9d9d4257-90d2-4065-b7e5-14b2245e3330",
   "metadata": {},
   "outputs": [
    {
     "name": "stdout",
     "output_type": "stream",
     "text": [
      "the generated list is : [6, 6, 7, 5, 6]\n",
      " the sum of the nums are 30 and the average is 6\n"
     ]
    }
   ],
   "source": [
    "#1\n",
    "from random import randint as rr\n",
    "\n",
    "def sum_n_avg(list):\n",
    "    sum_ = sum(list)\n",
    "    avg = (sum_) // len(list)\n",
    "    return sum_,avg\n",
    "list = [rr(1,15) for _ in range(5)]\n",
    "print(\"the generated list is :\", list)\n",
    "sum_ , avg = sum_n_avg(list)\n",
    "print(f\" the sum of the nums are {sum_} and the average is {avg}\")"
   ]
  },
  {
   "cell_type": "code",
   "execution_count": 4,
   "id": "75aea7be-6196-4784-8d16-0055bcfcd30c",
   "metadata": {},
   "outputs": [
    {
     "name": "stdout",
     "output_type": "stream",
     "text": [
      "22 1974 dough\n",
      "1974 dough 22\n",
      "dough 22 1974\n"
     ]
    }
   ],
   "source": [
    "#2\n",
    "def rotate(a,b,c):\n",
    "    return b,c,a\n",
    "tup = \"dough\" , 22, 1974\n",
    "a,b,c = tup\n",
    "for _ in range(3):\n",
    "    a,b,c = rotate(a,b,c)\n",
    "    print(a,b,c)\n",
    "\n"
   ]
  },
  {
   "cell_type": "code",
   "execution_count": 8,
   "id": "7eba6f3c-3575-4263-b44c-c9ddfb374eb5",
   "metadata": {},
   "outputs": [
    {
     "name": "stdout",
     "output_type": "stream",
     "text": [
      "a. Create a list of N integers\n",
      "b. Display the list elements\n",
      "c. Insert an element at a specific position\n",
      "d. Delete an element at a given position\n",
      "e. Exit\n"
     ]
    },
    {
     "name": "stdout",
     "output_type": "stream",
     "text": [
      "Enter your option a\n",
      "Enter the size of the list 5\n",
      "Enter Element:  1\n",
      "Enter Element:  2\n",
      "Enter Element:  3\n",
      "Enter Element:  4\n",
      "Enter Element:  5\n"
     ]
    },
    {
     "name": "stdout",
     "output_type": "stream",
     "text": [
      "a. Create a list of N integers\n",
      "b. Display the list elements\n",
      "c. Insert an element at a specific position\n",
      "d. Delete an element at a given position\n",
      "e. Exit\n"
     ]
    },
    {
     "name": "stdout",
     "output_type": "stream",
     "text": [
      "Enter your option b\n"
     ]
    },
    {
     "name": "stdout",
     "output_type": "stream",
     "text": [
      "[1, 2, 3, 4, 5]\n",
      "a. Create a list of N integers\n",
      "b. Display the list elements\n",
      "c. Insert an element at a specific position\n",
      "d. Delete an element at a given position\n",
      "e. Exit\n"
     ]
    },
    {
     "name": "stdout",
     "output_type": "stream",
     "text": [
      "Enter your option e\n"
     ]
    }
   ],
   "source": [
    "def fun3(option):\n",
    "    global list1\n",
    "    match option:\n",
    "        case 'a':\n",
    "            n=int(input(\"Enter the size of the list\"))\n",
    "            list1=[int(input(\"Enter Element: \")) for _ in range(n)]\n",
    " \n",
    "        case 'b':\n",
    "            print(list1)\n",
    "\n",
    "        case 'c':\n",
    "            po=int(input(\"Enter the position to insert\"))\n",
    "            ele=int(input(\"Enter element\"))\n",
    "            list1.insert(po,ele)\n",
    "\n",
    "        case 'd':\n",
    "            d1=int(input(\"Enter the position to delete\"))\n",
    "            del list1[d1]\n",
    "\n",
    "        case 'e':\n",
    "            return True\n",
    "while(True):\n",
    "    print(\"a. Create a list of N integers\")\n",
    "    print(\"b. Display the list elements\")\n",
    "    print(\"c. Insert an element at a specific position\")\n",
    "    print(\"d. Delete an element at a given position\")\n",
    "    print(\"e. Exit\")\n",
    "    x=input(\"Enter your option\")\n",
    "    if fun3(x):\n",
    "        break"
   ]
  },
  {
   "cell_type": "code",
   "execution_count": 3,
   "id": "50687c4e-65e3-4b31-85be-7d64e450167d",
   "metadata": {},
   "outputs": [
    {
     "name": "stdout",
     "output_type": "stream",
     "text": [
      "enter a number :  6\n"
     ]
    },
    {
     "name": "stdout",
     "output_type": "stream",
     "text": [
      "no\n"
     ]
    }
   ],
   "source": [
    "n = int(input(\"enter a number : \" ))\n",
    "count =0\n",
    "for i in range (2 , int(n**0.5)+1):\n",
    "    if n%i ==0:\n",
    "        count += 1\n",
    "    \n",
    "if count > 0:\n",
    "        print(\"no\")\n",
    "else: print(\"yes\")"
   ]
  },
  {
   "cell_type": "code",
   "execution_count": 10,
   "id": "6d35618d-fd73-4549-8da1-eab7ccf89192",
   "metadata": {},
   "outputs": [
    {
     "data": {
      "text/plain": [
       " factors of number 1 is 2,2,2,3,5\n"
      ]
     },
     "metadata": {},
     "output_type": "display_data"
    }
   ],
   "source": [
    "n = 120\n",
    "fact = 2 \n",
    "factors = []\n",
    "\n",
    "while n > 1 :\n",
    "    while n % fact ==0:\n",
    "        factors.append(fact)\n",
    "        n //=  fact\n",
    "    fact += 1\n",
    "print(f\" factors of number {n} is {',' .join(map(str,factors))}\")"
   ]
  },
  {
   "cell_type": "code",
   "execution_count": null,
   "id": "df26650b-27e7-4aa6-bd61-ab3d5f573db6",
   "metadata": {},
   "outputs": [
    {
     "data": {
      "text/plain": [
       "Traceback (most recent call last):\n",
       "  File \"c:\\Users\\kaush\\.vscode\\extensions\\ms-python.python-2024.22.2-win32-x64\\python_files\\python_server.py\", line 133, in exec_user_input\n",
       "    retval = callable_(user_input, user_globals)\n",
       "  File \"<string>\", line 4\n",
       "    for ch in n:    \n",
       "                    ^\n",
       "IndentationError: expected an indented block after 'for' statement on line 4\n",
       "\n"
      ]
     },
     "metadata": {},
     "output_type": "display_data"
    }
   ],
   "source": [
    "# Write a program that takes a number from the user and continuously sums its digits until the sum\n",
    "# becomes a single-digit number.\n",
    "n = int(input(\"enter a number : \"))\n",
    "\n"
   ]
  },
  {
   "cell_type": "code",
   "execution_count": 5,
   "id": "0b5b71d4",
   "metadata": {},
   "outputs": [
    {
     "name": "stdin",
     "output_type": "stream",
     "text": [
      "Enter a number 9870\n"
     ]
    },
    {
     "name": "stdout",
     "output_type": "stream",
     "text": [
      "First: 9, Second: 8, Third: 7\n"
     ]
    }
   ],
   "source": [
    "import numpy as np\n",
    "\n",
    "def find_top_three_digits_numpy(number):\n",
    "    # Convert the number to a list of digits\n",
    "    digits = np.array([int(d) for d in str(number)])\n",
    "    sorted_digits = np.sort(digits)[::-1]\n",
    "    \n",
    "    # Extract the top three greatest digits\n",
    "    first, second, third = sorted_digits[:3]\n",
    "    return int(first), int(second), int(third)\n",
    "\n",
    "# Sample usage\n",
    "number = input(\"Enter a number\")\n",
    "result = find_top_three_digits_numpy(number)\n",
    "print(f\"First: {result[0]}, Second: {result[1]}, Third: {result[2]}\")\n"
   ]
  },
  {
   "cell_type": "markdown",
   "id": "bcd73b4a",
   "metadata": {},
   "source": [
    "# Find the numbers between 100 and 500, which are divisible by 3 and multiples of 5 using function in\n",
    "# Python.\n",
    "\n",
    "def checkDivisible():\n",
    "    for i in range(100,501):\n",
    "        if i%3 ==0 and i%5 ==0:\n",
    "            print(i,end=\" \")\n",
    "\n",
    "n = int(input(\"no :\"))\n",
    "checkDivisible(n)\n"
   ]
  },
  {
   "cell_type": "code",
   "execution_count": 8,
   "id": "8c063698-6205-4ff1-9e2d-1aeb94bdc6ea",
   "metadata": {},
   "outputs": [
    {
     "name": "stdout",
     "output_type": "stream",
     "text": [
      "105 120 135 150 165 180 195 210 225 240 255 270 285 300 315 330 345 360 375 390 405 420 435 450 465 480 495 "
     ]
    }
   ],
   "source": [
    "# Find the numbers between 100 and 500, which are divisible by 3 and multiples of 5 using function in\n",
    "# Python.\n",
    "\n",
    "def checkDivisible():\n",
    "    for i in range(100,501):\n",
    "        if i%3 ==0 and i%5 ==0:\n",
    "            print(i,end=\" \")\n",
    "checkDivisible()    "
   ]
  },
  {
   "cell_type": "code",
   "execution_count": 14,
   "id": "3d5491ea-9e7e-450a-9ac6-c4656fd84af7",
   "metadata": {},
   "outputs": [
    {
     "name": "stdin",
     "output_type": "stream",
     "text": [
      "Enter a str:  halo\n"
     ]
    },
    {
     "name": "stdout",
     "output_type": "stream",
     "text": [
      "olah\n"
     ]
    }
   ],
   "source": [
    "# def reverse(s):\n",
    "#     reversed = s[::-1]\n",
    "#     return s\n",
    "# s = input(\"Entr str: \")\n",
    "# print(f\"reversed str is {reversed(s)}\")\n",
    "def revstr(string):\n",
    "    reversed_string = string[::-1]\n",
    "    print(reversed_string)  # Output: \"olleh\"\n",
    "string = input(\"Enter a str: \")\n",
    "revstr(string)"
   ]
  },
  {
   "cell_type": "code",
   "execution_count": 15,
   "id": "43bd8070-20f1-44b2-a6c3-d3eebb0584d1",
   "metadata": {},
   "outputs": [
    {
     "name": "stdin",
     "output_type": "stream",
     "text": [
      "Enter a str:  1234\n"
     ]
    },
    {
     "name": "stdout",
     "output_type": "stream",
     "text": [
      "no of dig : 4\n"
     ]
    }
   ],
   "source": [
    "def fn(n):\n",
    "    for ch in n:\n",
    "        if ord(ch)<48 or ord(ch) > 57:\n",
    "            print(\"pls enter a pos number\")\n",
    "    count =0\n",
    "    for i in n:\n",
    "        count += 1\n",
    "    return count\n",
    "    \n",
    "str = input(\"Enter a str: \")\n",
    "print(\"no of dig :\" , fn(str))      "
   ]
  },
  {
   "cell_type": "code",
   "execution_count": 6,
   "id": "5e5182fd-ccf8-4dc8-b912-85dbd20b56aa",
   "metadata": {},
   "outputs": [
    {
     "name": "stdout",
     "output_type": "stream",
     "text": [
      "[1, 4, 9, 16, 25]\n"
     ]
    }
   ],
   "source": [
    "# Creating a list of squares\n",
    "my_array = [x**2 for x in range(1, 6)]\n",
    "print(my_array)\n"
   ]
  },
  {
   "cell_type": "code",
   "execution_count": 20,
   "id": "b74253fe-b581-4e27-9dc9-fbaa987f85dd",
   "metadata": {},
   "outputs": [
    {
     "name": "stdout",
     "output_type": "stream",
     "text": [
      "[0 1 2 3]\n"
     ]
    }
   ],
   "source": [
    "import numpy as np\n",
    "arr = np.arange(4)\n",
    "print(arr)"
   ]
  },
  {
   "cell_type": "code",
   "execution_count": null,
   "id": "baeed47e-5dc3-4670-8625-a969e8411507",
   "metadata": {},
   "outputs": [],
   "source": []
  }
 ],
 "metadata": {
  "kernelspec": {
   "display_name": "Python 3 (ipykernel)",
   "language": "python",
   "name": "python3"
  },
  "language_info": {
   "codemirror_mode": {
    "name": "ipython",
    "version": 3
   },
   "file_extension": ".py",
   "mimetype": "text/x-python",
   "name": "python",
   "nbconvert_exporter": "python",
   "pygments_lexer": "ipython3",
   "version": "3.10.11"
  }
 },
 "nbformat": 4,
 "nbformat_minor": 5
}
